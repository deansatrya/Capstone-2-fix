{
 "cells": [
  {
   "cell_type": "code",
   "execution_count": 1,
   "metadata": {},
   "outputs": [],
   "source": [
    "import pandas as pd\n",
    "import numpy as np"
   ]
  },
  {
   "cell_type": "code",
   "execution_count": 2,
   "metadata": {},
   "outputs": [],
   "source": [
    "df = pd.read_csv('Transjakarta.csv')"
   ]
  },
  {
   "cell_type": "code",
   "execution_count": 4,
   "metadata": {},
   "outputs": [],
   "source": [
    "# Data filling for corridorID\n",
    "\n",
    "# 1. Create mappings for corridorID based on corridorName and tapInStopsLat, tapInStopsLon\n",
    "corridor_name_mapping = df.dropna(subset=['corridorID']).drop_duplicates('corridorName').set_index('corridorName')['corridorID']\n",
    "corridor_latlon_mapping = df.dropna(subset=['corridorID']).drop_duplicates(['tapInStopsLat', 'tapInStopsLon']).set_index(['tapInStopsLat', 'tapInStopsLon'])['corridorID']\n",
    "\n",
    "# 2. Apply mappings to fill missing corridorID\n",
    "df['corridorID'] = df.apply(\n",
    "    lambda row: corridor_name_mapping.get(row['corridorName'], corridor_latlon_mapping.get((row['tapInStopsLat'], row['tapInStopsLon']), row['corridorID']))\n",
    "    if pd.isnull(row['corridorID']) else row['corridorID'], axis=1\n",
    ")\n"
   ]
  },
  {
   "cell_type": "code",
   "execution_count": 3,
   "metadata": {},
   "outputs": [],
   "source": [
    "# Create a mapping for corridorName based on unique corridorID\n",
    "corridor_mapping = df.dropna(subset=['corridorName']).drop_duplicates('corridorID').set_index('corridorID')['corridorName']\n",
    "\n",
    "# Fill missing corridorName using the mapping\n",
    "df['corridorName'] = df.apply(\n",
    "    lambda row: corridor_mapping.get(row['corridorID'], row['corridorName'])\n",
    "    if pd.isnull(row['corridorName']) else row['corridorName'], axis=1\n",
    ")"
   ]
  },
  {
   "cell_type": "code",
   "execution_count": 4,
   "metadata": {},
   "outputs": [],
   "source": [
    "# Create a mapping for tapInStops based on unique tapInStopsLon and tapInStopsLat combinations\n",
    "tap_in_stops_mapping = df.dropna(subset=['tapInStops']).drop_duplicates(['tapInStopsLon', 'tapInStopsLat']).set_index(['tapInStopsLon', 'tapInStopsLat'])['tapInStops']\n",
    "\n",
    "# Fill missing tapInStops using the mapping\n",
    "df['tapInStops'] = df.apply(\n",
    "    lambda row: tap_in_stops_mapping.get((row['tapInStopsLon'], row['tapInStopsLat']), row['tapInStops'])\n",
    "    if pd.isnull(row['tapInStops']) else row['tapInStops'], axis=1\n",
    ")"
   ]
  },
  {
   "cell_type": "code",
   "execution_count": 5,
   "metadata": {},
   "outputs": [],
   "source": [
    "\n",
    "# 1. Create a mapping for tapOutStops based on unique combinations of tapOutStopsLon and tapOutStopsLat\n",
    "tap_out_stops_mapping = df.dropna(subset=['tapOutStops']).drop_duplicates(['tapOutStopsLon', 'tapOutStopsLat']).set_index(['tapOutStopsLon', 'tapOutStopsLat'])['tapOutStops']\n",
    "\n",
    "# 2. Define a function to fill missing tapOutStops using tapOutStopsLon and tapOutStopsLat\n",
    "def fill_missing_tapOutStops(row):\n",
    "    return tap_out_stops_mapping.get((row['tapOutStopsLon'], row['tapOutStopsLat']), row['tapOutStops']) if pd.isnull(row['tapOutStops']) else row['tapOutStops']\n",
    "\n",
    "# 3. Apply the function to fill tapOutStops using tapOutStopsLon and tapOutStopsLat\n",
    "df['tapOutStops'] = df.apply(fill_missing_tapOutStops, axis=1)\n"
   ]
  },
  {
   "cell_type": "code",
   "execution_count": 6,
   "metadata": {},
   "outputs": [],
   "source": [
    "# Create a mapping for tapOutStopsName based on tapOutStops\n",
    "tap_out_stops_name_mapping = df.dropna(subset=['tapOutStopsName']).drop_duplicates('tapOutStops').set_index('tapOutStops')['tapOutStopsName']\n",
    "\n",
    "# Fill missing tapOutStopsName using the mapping\n",
    "df['tapOutStopsName'] = df.apply(\n",
    "    lambda row: tap_out_stops_name_mapping.get(row['tapOutStops'], row['tapOutStopsName'])\n",
    "    if pd.isnull(row['tapOutStopsName']) and pd.notnull(row['tapOutStops']) else row['tapOutStopsName'], axis=1\n",
    ")"
   ]
  },
  {
   "cell_type": "code",
   "execution_count": 7,
   "metadata": {},
   "outputs": [],
   "source": [
    "# Create a mapping for tapOutStopsLat based on tapOutStops\n",
    "lat_mapping = df.dropna(subset=['tapOutStopsLat']).drop_duplicates('tapOutStops').set_index('tapOutStops')['tapOutStopsLat']\n",
    "\n",
    "# Fill missing tapOutStopsLat using the mapping\n",
    "df['tapOutStopsLat'] = df.apply(\n",
    "    lambda row: lat_mapping.get(row['tapOutStops'], row['tapOutStopsLat'])\n",
    "    if pd.isnull(row['tapOutStopsLat']) and pd.notnull(row['tapOutStops']) else row['tapOutStopsLat'], axis=1\n",
    ")\n"
   ]
  },
  {
   "cell_type": "code",
   "execution_count": 8,
   "metadata": {},
   "outputs": [],
   "source": [
    "# Create a mapping for tapOutStopsLon based on tapOutStops\n",
    "lon_mapping = df.dropna(subset=['tapOutStopsLon']).drop_duplicates('tapOutStops').set_index('tapOutStops')['tapOutStopsLon']\n",
    "\n",
    "# Fill missing tapOutStopsLon using the mapping\n",
    "df['tapOutStopsLon'] = df.apply(\n",
    "    lambda row: lon_mapping.get(row['tapOutStops'], row['tapOutStopsLon'])\n",
    "    if pd.isnull(row['tapOutStopsLon']) and pd.notnull(row['tapOutStops']) else row['tapOutStopsLon'], axis=1\n",
    ")\n"
   ]
  },
  {
   "cell_type": "code",
   "execution_count": 9,
   "metadata": {},
   "outputs": [
    {
     "data": {
      "text/html": [
       "<div>\n",
       "<style scoped>\n",
       "    .dataframe tbody tr th:only-of-type {\n",
       "        vertical-align: middle;\n",
       "    }\n",
       "\n",
       "    .dataframe tbody tr th {\n",
       "        vertical-align: top;\n",
       "    }\n",
       "\n",
       "    .dataframe thead th {\n",
       "        text-align: right;\n",
       "    }\n",
       "</style>\n",
       "<table border=\"1\" class=\"dataframe\">\n",
       "  <thead>\n",
       "    <tr style=\"text-align: right;\">\n",
       "      <th></th>\n",
       "      <th>corridorName</th>\n",
       "    </tr>\n",
       "  </thead>\n",
       "  <tbody>\n",
       "    <tr>\n",
       "      <th>0</th>\n",
       "      <td>Cibubur - Balai Kota</td>\n",
       "    </tr>\n",
       "    <tr>\n",
       "      <th>1</th>\n",
       "      <td>Bekasi Barat - Kuningan</td>\n",
       "    </tr>\n",
       "    <tr>\n",
       "      <th>2</th>\n",
       "      <td>Palem Semi - Bundaran Senayan</td>\n",
       "    </tr>\n",
       "    <tr>\n",
       "      <th>3</th>\n",
       "      <td>Cinere - Bundaran Senayan</td>\n",
       "    </tr>\n",
       "    <tr>\n",
       "      <th>4</th>\n",
       "      <td>Bintaro - Fatmawati</td>\n",
       "    </tr>\n",
       "    <tr>\n",
       "      <th>5</th>\n",
       "      <td>Rusun Waduk Pluit - Penjaringan</td>\n",
       "    </tr>\n",
       "    <tr>\n",
       "      <th>6</th>\n",
       "      <td>Bekasi Barat - Blok M</td>\n",
       "    </tr>\n",
       "    <tr>\n",
       "      <th>7</th>\n",
       "      <td>Cinere - Kuningan</td>\n",
       "    </tr>\n",
       "    <tr>\n",
       "      <th>8</th>\n",
       "      <td>Cibubur Junction - Blok M</td>\n",
       "    </tr>\n",
       "    <tr>\n",
       "      <th>9</th>\n",
       "      <td>Cibubur - Kuningan</td>\n",
       "    </tr>\n",
       "    <tr>\n",
       "      <th>10</th>\n",
       "      <td>BSD Serpong - Fatmawati</td>\n",
       "    </tr>\n",
       "  </tbody>\n",
       "</table>\n",
       "</div>"
      ],
      "text/plain": [
       "                       corridorName\n",
       "0              Cibubur - Balai Kota\n",
       "1           Bekasi Barat - Kuningan\n",
       "2     Palem Semi - Bundaran Senayan\n",
       "3         Cinere - Bundaran Senayan\n",
       "4               Bintaro - Fatmawati\n",
       "5   Rusun Waduk Pluit - Penjaringan\n",
       "6             Bekasi Barat - Blok M\n",
       "7                 Cinere - Kuningan\n",
       "8         Cibubur Junction - Blok M\n",
       "9                Cibubur - Kuningan\n",
       "10          BSD Serpong - Fatmawati"
      ]
     },
     "execution_count": 9,
     "metadata": {},
     "output_type": "execute_result"
    }
   ],
   "source": [
    "payAmount_20k = pd.DataFrame(df.loc[df['payAmount'] == 20000, 'corridorName'].unique(), columns=['corridorName'])\n",
    "payAmount_20k"
   ]
  },
  {
   "cell_type": "code",
   "execution_count": 10,
   "metadata": {},
   "outputs": [],
   "source": [
    "# Apply the pay amount logic\n",
    "df['payAmount'] = df.apply(\n",
    "    lambda row: 20000 if row['corridorName'] in payAmount_20k and pd.isna(row['payAmount']) \n",
    "    else 0 if pd.isna(row['payAmount']) \n",
    "    else row['payAmount'], \n",
    "    axis=1\n",
    ")\n"
   ]
  },
  {
   "cell_type": "code",
   "execution_count": 11,
   "metadata": {},
   "outputs": [
    {
     "data": {
      "text/plain": [
       "transID                0\n",
       "payCardID              0\n",
       "payCardBank            0\n",
       "payCardName            0\n",
       "payCardSex             0\n",
       "payCardBirthDate       0\n",
       "corridorID          1257\n",
       "corridorName           0\n",
       "direction              0\n",
       "tapInStops            34\n",
       "tapInStopsName         0\n",
       "tapInStopsLat          0\n",
       "tapInStopsLon          0\n",
       "stopStartSeq           0\n",
       "tapInTime              0\n",
       "tapOutStops         1363\n",
       "tapOutStopsName     1344\n",
       "tapOutStopsLat      1344\n",
       "tapOutStopsLon      1344\n",
       "stopEndSeq          1344\n",
       "tapOutTime          1344\n",
       "payAmount              0\n",
       "dtype: int64"
      ]
     },
     "execution_count": 11,
     "metadata": {},
     "output_type": "execute_result"
    }
   ],
   "source": [
    "df.isna().sum()"
   ]
  },
  {
   "cell_type": "code",
   "execution_count": 12,
   "metadata": {},
   "outputs": [],
   "source": [
    "#drop the rest nan\n",
    "df = df.dropna()"
   ]
  },
  {
   "cell_type": "code",
   "execution_count": 13,
   "metadata": {},
   "outputs": [
    {
     "data": {
      "text/plain": [
       "transID             0\n",
       "payCardID           0\n",
       "payCardBank         0\n",
       "payCardName         0\n",
       "payCardSex          0\n",
       "payCardBirthDate    0\n",
       "corridorID          0\n",
       "corridorName        0\n",
       "direction           0\n",
       "tapInStops          0\n",
       "tapInStopsName      0\n",
       "tapInStopsLat       0\n",
       "tapInStopsLon       0\n",
       "stopStartSeq        0\n",
       "tapInTime           0\n",
       "tapOutStops         0\n",
       "tapOutStopsName     0\n",
       "tapOutStopsLat      0\n",
       "tapOutStopsLon      0\n",
       "stopEndSeq          0\n",
       "tapOutTime          0\n",
       "payAmount           0\n",
       "dtype: int64"
      ]
     },
     "execution_count": 13,
     "metadata": {},
     "output_type": "execute_result"
    }
   ],
   "source": [
    "df.isna().sum()"
   ]
  },
  {
   "cell_type": "code",
   "execution_count": 14,
   "metadata": {},
   "outputs": [
    {
     "data": {
      "text/plain": [
       "(35301, 22)"
      ]
     },
     "execution_count": 14,
     "metadata": {},
     "output_type": "execute_result"
    }
   ],
   "source": [
    "df.shape"
   ]
  },
  {
   "cell_type": "code",
   "execution_count": 15,
   "metadata": {},
   "outputs": [],
   "source": [
    "# Convert 'tapInTime' and 'tapOutTime' to datetime objects\n",
    "df['tapInTime'] = pd.to_datetime(df['tapInTime'])\n",
    "df['tapOutTime'] = pd.to_datetime(df['tapOutTime'])"
   ]
  },
  {
   "cell_type": "code",
   "execution_count": 16,
   "metadata": {},
   "outputs": [],
   "source": [
    "# Convert DataFrame to CSV and Excel files for different uses\n",
    "df.to_csv('cleaned_Trans.csv', index=False)\n",
    "df.to_excel('cleaned_Trans.xlsx', index=False, sheet_name='Transjakarta')"
   ]
  }
 ],
 "metadata": {
  "kernelspec": {
   "display_name": "base",
   "language": "python",
   "name": "python3"
  },
  "language_info": {
   "codemirror_mode": {
    "name": "ipython",
    "version": 3
   },
   "file_extension": ".py",
   "mimetype": "text/x-python",
   "name": "python",
   "nbconvert_exporter": "python",
   "pygments_lexer": "ipython3",
   "version": "3.11.7"
  }
 },
 "nbformat": 4,
 "nbformat_minor": 2
}
